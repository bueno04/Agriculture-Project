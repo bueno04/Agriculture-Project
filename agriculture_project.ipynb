{
 "cells": [
  {
   "cell_type": "markdown",
   "id": "9579a28d-96f0-4cec-bb1f-855819141264",
   "metadata": {},
   "source": [
    "## Importing the required data and libraries"
   ]
  },
  {
   "cell_type": "code",
   "execution_count": 1,
   "id": "afb07658-def8-458f-bda8-5c0fcef44035",
   "metadata": {},
   "outputs": [],
   "source": [
    "import pandas as pd;\n",
    "import numpy as np;"
   ]
  },
  {
   "cell_type": "code",
   "execution_count": 2,
   "id": "efd9060f-af6b-491a-8330-2e2357762ee7",
   "metadata": {},
   "outputs": [],
   "source": [
    "ag = pd.read_csv('agriculture_dataset.csv')\n",
    "cl = pd.read_csv('climate_dataset.csv')"
   ]
  },
  {
   "cell_type": "markdown",
   "id": "3dbb28cf-19ef-4d85-9d93-fa7e9d8151b5",
   "metadata": {},
   "source": [
    "## Checking the data present in the .csv files"
   ]
  },
  {
   "cell_type": "code",
   "execution_count": 3,
   "id": "0c7ba4d7-9fe6-42a4-821d-d1c0faf1bd53",
   "metadata": {},
   "outputs": [
    {
     "name": "stdout",
     "output_type": "stream",
     "text": [
      "<class 'pandas.core.frame.DataFrame'>\n",
      "RangeIndex: 1000 entries, 0 to 999\n",
      "Data columns (total 9 columns):\n",
      " #   Column                   Non-Null Count  Dtype \n",
      "---  ------                   --------------  ----- \n",
      " 0   Region                   1000 non-null   object\n",
      " 1   Product                  1000 non-null   object\n",
      " 2   Machine                  1000 non-null   object\n",
      " 3   Month_Year               1000 non-null   object\n",
      " 4   Area_Hectares            1000 non-null   int64 \n",
      " 5   Production_Tons          1000 non-null   int64 \n",
      " 6   Sales_Revenue            1000 non-null   int64 \n",
      " 7   Cost_Man                 1000 non-null   int64 \n",
      " 8   Fuel_Consumption_Liters  1000 non-null   int64 \n",
      "dtypes: int64(5), object(4)\n",
      "memory usage: 70.4+ KB\n"
     ]
    }
   ],
   "source": [
    "ag.info()"
   ]
  },
  {
   "cell_type": "code",
   "execution_count": 4,
   "id": "6f8e8de5-c3c5-4ea7-b290-984f220d4807",
   "metadata": {},
   "outputs": [
    {
     "name": "stdout",
     "output_type": "stream",
     "text": [
      "<class 'pandas.core.frame.DataFrame'>\n",
      "RangeIndex: 12 entries, 0 to 11\n",
      "Data columns (total 3 columns):\n",
      " #   Column             Non-Null Count  Dtype \n",
      "---  ------             --------------  ----- \n",
      " 0   Month              12 non-null     object\n",
      " 1   Avg_Temperature_C  12 non-null     int64 \n",
      " 2   Rainfall_mm        12 non-null     int64 \n",
      "dtypes: int64(2), object(1)\n",
      "memory usage: 420.0+ bytes\n"
     ]
    }
   ],
   "source": [
    "cl.info()"
   ]
  },
  {
   "cell_type": "code",
   "execution_count": 5,
   "id": "2cb1204c-f7b7-4ef0-8415-38783ba8d53c",
   "metadata": {},
   "outputs": [],
   "source": [
    "#converting the month_year column to date \n",
    "ag['Month_Year'] = pd.to_datetime(ag['Month_Year'])"
   ]
  },
  {
   "cell_type": "code",
   "execution_count": 6,
   "id": "3093775e-80d3-4672-8991-f9dc948818ab",
   "metadata": {},
   "outputs": [],
   "source": [
    "#converting the month column to date\n",
    "cl['Month'] = pd.to_datetime(cl['Month'])"
   ]
  },
  {
   "cell_type": "markdown",
   "id": "5f203046-aeb8-4b8d-9146-18a97f2746c0",
   "metadata": {},
   "source": [
    "## Cleaning the data"
   ]
  },
  {
   "cell_type": "code",
   "execution_count": 7,
   "id": "339a2437-9a7b-4b62-8f26-bbec0cdf2850",
   "metadata": {},
   "outputs": [
    {
     "data": {
      "text/plain": [
       "Region                     0\n",
       "Product                    0\n",
       "Machine                    0\n",
       "Month_Year                 0\n",
       "Area_Hectares              0\n",
       "Production_Tons            0\n",
       "Sales_Revenue              0\n",
       "Cost_Man                   0\n",
       "Fuel_Consumption_Liters    0\n",
       "dtype: int64"
      ]
     },
     "execution_count": 7,
     "metadata": {},
     "output_type": "execute_result"
    }
   ],
   "source": [
    "#checking for null values on the datasets\n",
    "ag_null_values = ag.isnull().sum()\n",
    "ag_null_values"
   ]
  },
  {
   "cell_type": "code",
   "execution_count": 8,
   "id": "08ca594d-b886-4f43-b2d0-5f8350dac426",
   "metadata": {},
   "outputs": [
    {
     "data": {
      "text/plain": [
       "Month                0\n",
       "Avg_Temperature_C    0\n",
       "Rainfall_mm          0\n",
       "dtype: int64"
      ]
     },
     "execution_count": 8,
     "metadata": {},
     "output_type": "execute_result"
    }
   ],
   "source": [
    "cl_null_values = cl.isnull().sum()\n",
    "cl_null_values"
   ]
  },
  {
   "cell_type": "code",
   "execution_count": 9,
   "id": "570d8555-ce09-4266-98b2-9a8aa88f6bcb",
   "metadata": {},
   "outputs": [],
   "source": [
    "#droping the null values from the column\n",
    "ag = ag.dropna()"
   ]
  },
  {
   "cell_type": "code",
   "execution_count": 10,
   "id": "2b9c35dc-084b-4c12-a754-b0cbc36c9c85",
   "metadata": {},
   "outputs": [],
   "source": [
    "cl = cl.dropna()"
   ]
  },
  {
   "cell_type": "code",
   "execution_count": 11,
   "id": "316e1f20-d5d3-4206-ad47-757d12d6ab91",
   "metadata": {},
   "outputs": [],
   "source": [
    "#replacing blank spaces, and typos\n",
    "ag.columns = ag.columns.str.strip().str.lower().str.replace(r'\\s+', '_', regex=True)"
   ]
  },
  {
   "cell_type": "code",
   "execution_count": 12,
   "id": "748e0449-e5a1-4524-925f-5f53c0fd52a9",
   "metadata": {},
   "outputs": [],
   "source": [
    "cl.columns = cl.columns.str.strip().str.lower().str.replace(r'\\s+', '_', regex=True)"
   ]
  },
  {
   "cell_type": "markdown",
   "id": "d9e43ce1-a321-46b3-96f7-a65a244b9fcf",
   "metadata": {},
   "source": [
    "## Merging the agriculture dataset with the climate dataset"
   ]
  },
  {
   "cell_type": "code",
   "execution_count": 13,
   "id": "6b489d58-3d13-48f3-b180-79e413487271",
   "metadata": {},
   "outputs": [
    {
     "name": "stdout",
     "output_type": "stream",
     "text": [
      "['region', 'product', 'machine', 'month_year', 'area_hectares', 'production_tons', 'sales_revenue', 'cost_man', 'fuel_consumption_liters']\n"
     ]
    }
   ],
   "source": [
    "#Checking columns names after replacing the blank spaces and typos\n",
    "print(ag.columns.tolist())"
   ]
  },
  {
   "cell_type": "code",
   "execution_count": 14,
   "id": "c8b9d2c8-aade-498d-ad09-1ffa6aa3a052",
   "metadata": {},
   "outputs": [
    {
     "name": "stdout",
     "output_type": "stream",
     "text": [
      "['month', 'avg_temperature_c', 'rainfall_mm']\n"
     ]
    }
   ],
   "source": [
    "print(cl.columns.tolist())"
   ]
  },
  {
   "cell_type": "code",
   "execution_count": 15,
   "id": "239303c5-cec2-4cd1-a193-8704dea05c0f",
   "metadata": {},
   "outputs": [
    {
     "name": "stdout",
     "output_type": "stream",
     "text": [
      "2024-01-01 00:00:00 2024-12-01 00:00:00\n"
     ]
    }
   ],
   "source": [
    "#Checking columns types to see if they merge\n",
    "print(ag['month_year'].min(), ag['month_year'].max())"
   ]
  },
  {
   "cell_type": "code",
   "execution_count": 16,
   "id": "d9556f8c-194c-4d67-a9f3-c8f5242d607f",
   "metadata": {},
   "outputs": [
    {
     "name": "stdout",
     "output_type": "stream",
     "text": [
      "2024-01-01 00:00:00 2024-12-01 00:00:00\n"
     ]
    }
   ],
   "source": [
    "print(cl['month'].min(), cl['month'].max())"
   ]
  },
  {
   "cell_type": "code",
   "execution_count": 17,
   "id": "c1665a32-bc3d-4946-a5d9-a5aa7c25a745",
   "metadata": {},
   "outputs": [],
   "source": [
    "#Making the merge with climate datase]\n",
    "df_merged = pd.merge(ag, cl, left_on='month_year', right_on='month', how='left')"
   ]
  },
  {
   "cell_type": "code",
   "execution_count": 18,
   "id": "140c6a41-da98-41ae-8ea7-20d651205f14",
   "metadata": {},
   "outputs": [
    {
     "data": {
      "text/html": [
       "<div>\n",
       "<style scoped>\n",
       "    .dataframe tbody tr th:only-of-type {\n",
       "        vertical-align: middle;\n",
       "    }\n",
       "\n",
       "    .dataframe tbody tr th {\n",
       "        vertical-align: top;\n",
       "    }\n",
       "\n",
       "    .dataframe thead th {\n",
       "        text-align: right;\n",
       "    }\n",
       "</style>\n",
       "<table border=\"1\" class=\"dataframe\">\n",
       "  <thead>\n",
       "    <tr style=\"text-align: right;\">\n",
       "      <th></th>\n",
       "      <th>region</th>\n",
       "      <th>product</th>\n",
       "      <th>machine</th>\n",
       "      <th>month_year</th>\n",
       "      <th>area_hectares</th>\n",
       "      <th>production_tons</th>\n",
       "      <th>sales_revenue</th>\n",
       "      <th>cost_man</th>\n",
       "      <th>fuel_consumption_liters</th>\n",
       "      <th>month</th>\n",
       "      <th>avg_temperature_c</th>\n",
       "      <th>rainfall_mm</th>\n",
       "    </tr>\n",
       "  </thead>\n",
       "  <tbody>\n",
       "    <tr>\n",
       "      <th>0</th>\n",
       "      <td>Nordeste</td>\n",
       "      <td>Cana-de-açúcar</td>\n",
       "      <td>Plantadeira Y</td>\n",
       "      <td>2024-10-01</td>\n",
       "      <td>480</td>\n",
       "      <td>1310</td>\n",
       "      <td>164648</td>\n",
       "      <td>175205</td>\n",
       "      <td>4999</td>\n",
       "      <td>2024-10-01</td>\n",
       "      <td>18</td>\n",
       "      <td>78</td>\n",
       "    </tr>\n",
       "    <tr>\n",
       "      <th>1</th>\n",
       "      <td>Norte</td>\n",
       "      <td>Cana-de-açúcar</td>\n",
       "      <td>Colheitadeira X</td>\n",
       "      <td>2024-12-01</td>\n",
       "      <td>437</td>\n",
       "      <td>21</td>\n",
       "      <td>434724</td>\n",
       "      <td>232107</td>\n",
       "      <td>4410</td>\n",
       "      <td>2024-12-01</td>\n",
       "      <td>17</td>\n",
       "      <td>207</td>\n",
       "    </tr>\n",
       "    <tr>\n",
       "      <th>2</th>\n",
       "      <td>Centro-Oeste</td>\n",
       "      <td>Cana-de-açúcar</td>\n",
       "      <td>Plantadeira Y</td>\n",
       "      <td>2024-10-01</td>\n",
       "      <td>227</td>\n",
       "      <td>75</td>\n",
       "      <td>477927</td>\n",
       "      <td>100761</td>\n",
       "      <td>3119</td>\n",
       "      <td>2024-10-01</td>\n",
       "      <td>18</td>\n",
       "      <td>78</td>\n",
       "    </tr>\n",
       "    <tr>\n",
       "      <th>3</th>\n",
       "      <td>Norte</td>\n",
       "      <td>Cana-de-açúcar</td>\n",
       "      <td>Colheitadeira X</td>\n",
       "      <td>2024-01-01</td>\n",
       "      <td>13</td>\n",
       "      <td>1297</td>\n",
       "      <td>35464</td>\n",
       "      <td>33926</td>\n",
       "      <td>3781</td>\n",
       "      <td>2024-01-01</td>\n",
       "      <td>21</td>\n",
       "      <td>169</td>\n",
       "    </tr>\n",
       "    <tr>\n",
       "      <th>4</th>\n",
       "      <td>Norte</td>\n",
       "      <td>Trigo</td>\n",
       "      <td>Trator B</td>\n",
       "      <td>2024-02-01</td>\n",
       "      <td>99</td>\n",
       "      <td>1353</td>\n",
       "      <td>463497</td>\n",
       "      <td>109700</td>\n",
       "      <td>1543</td>\n",
       "      <td>2024-02-01</td>\n",
       "      <td>34</td>\n",
       "      <td>277</td>\n",
       "    </tr>\n",
       "    <tr>\n",
       "      <th>...</th>\n",
       "      <td>...</td>\n",
       "      <td>...</td>\n",
       "      <td>...</td>\n",
       "      <td>...</td>\n",
       "      <td>...</td>\n",
       "      <td>...</td>\n",
       "      <td>...</td>\n",
       "      <td>...</td>\n",
       "      <td>...</td>\n",
       "      <td>...</td>\n",
       "      <td>...</td>\n",
       "      <td>...</td>\n",
       "    </tr>\n",
       "    <tr>\n",
       "      <th>995</th>\n",
       "      <td>Sudeste</td>\n",
       "      <td>Soja</td>\n",
       "      <td>Trator B</td>\n",
       "      <td>2024-09-01</td>\n",
       "      <td>326</td>\n",
       "      <td>254</td>\n",
       "      <td>306213</td>\n",
       "      <td>222394</td>\n",
       "      <td>2847</td>\n",
       "      <td>2024-09-01</td>\n",
       "      <td>25</td>\n",
       "      <td>68</td>\n",
       "    </tr>\n",
       "    <tr>\n",
       "      <th>996</th>\n",
       "      <td>Sul</td>\n",
       "      <td>Trigo</td>\n",
       "      <td>Colheitadeira X</td>\n",
       "      <td>2024-02-01</td>\n",
       "      <td>422</td>\n",
       "      <td>882</td>\n",
       "      <td>148442</td>\n",
       "      <td>207123</td>\n",
       "      <td>1109</td>\n",
       "      <td>2024-02-01</td>\n",
       "      <td>34</td>\n",
       "      <td>277</td>\n",
       "    </tr>\n",
       "    <tr>\n",
       "      <th>997</th>\n",
       "      <td>Sul</td>\n",
       "      <td>Soja</td>\n",
       "      <td>Trator A</td>\n",
       "      <td>2024-02-01</td>\n",
       "      <td>304</td>\n",
       "      <td>952</td>\n",
       "      <td>129873</td>\n",
       "      <td>162699</td>\n",
       "      <td>1650</td>\n",
       "      <td>2024-02-01</td>\n",
       "      <td>34</td>\n",
       "      <td>277</td>\n",
       "    </tr>\n",
       "    <tr>\n",
       "      <th>998</th>\n",
       "      <td>Nordeste</td>\n",
       "      <td>Trigo</td>\n",
       "      <td>Trator A</td>\n",
       "      <td>2024-12-01</td>\n",
       "      <td>137</td>\n",
       "      <td>979</td>\n",
       "      <td>388987</td>\n",
       "      <td>282342</td>\n",
       "      <td>903</td>\n",
       "      <td>2024-12-01</td>\n",
       "      <td>17</td>\n",
       "      <td>207</td>\n",
       "    </tr>\n",
       "    <tr>\n",
       "      <th>999</th>\n",
       "      <td>Centro-Oeste</td>\n",
       "      <td>Algodão</td>\n",
       "      <td>Plantadeira Y</td>\n",
       "      <td>2024-12-01</td>\n",
       "      <td>353</td>\n",
       "      <td>1330</td>\n",
       "      <td>81947</td>\n",
       "      <td>111471</td>\n",
       "      <td>4180</td>\n",
       "      <td>2024-12-01</td>\n",
       "      <td>17</td>\n",
       "      <td>207</td>\n",
       "    </tr>\n",
       "  </tbody>\n",
       "</table>\n",
       "<p>1000 rows × 12 columns</p>\n",
       "</div>"
      ],
      "text/plain": [
       "           region         product          machine month_year  area_hectares  \\\n",
       "0        Nordeste  Cana-de-açúcar    Plantadeira Y 2024-10-01            480   \n",
       "1           Norte  Cana-de-açúcar  Colheitadeira X 2024-12-01            437   \n",
       "2    Centro-Oeste  Cana-de-açúcar    Plantadeira Y 2024-10-01            227   \n",
       "3           Norte  Cana-de-açúcar  Colheitadeira X 2024-01-01             13   \n",
       "4           Norte           Trigo         Trator B 2024-02-01             99   \n",
       "..            ...             ...              ...        ...            ...   \n",
       "995       Sudeste            Soja         Trator B 2024-09-01            326   \n",
       "996           Sul           Trigo  Colheitadeira X 2024-02-01            422   \n",
       "997           Sul            Soja         Trator A 2024-02-01            304   \n",
       "998      Nordeste           Trigo         Trator A 2024-12-01            137   \n",
       "999  Centro-Oeste         Algodão    Plantadeira Y 2024-12-01            353   \n",
       "\n",
       "     production_tons  sales_revenue  cost_man  fuel_consumption_liters  \\\n",
       "0               1310         164648    175205                     4999   \n",
       "1                 21         434724    232107                     4410   \n",
       "2                 75         477927    100761                     3119   \n",
       "3               1297          35464     33926                     3781   \n",
       "4               1353         463497    109700                     1543   \n",
       "..               ...            ...       ...                      ...   \n",
       "995              254         306213    222394                     2847   \n",
       "996              882         148442    207123                     1109   \n",
       "997              952         129873    162699                     1650   \n",
       "998              979         388987    282342                      903   \n",
       "999             1330          81947    111471                     4180   \n",
       "\n",
       "         month  avg_temperature_c  rainfall_mm  \n",
       "0   2024-10-01                 18           78  \n",
       "1   2024-12-01                 17          207  \n",
       "2   2024-10-01                 18           78  \n",
       "3   2024-01-01                 21          169  \n",
       "4   2024-02-01                 34          277  \n",
       "..         ...                ...          ...  \n",
       "995 2024-09-01                 25           68  \n",
       "996 2024-02-01                 34          277  \n",
       "997 2024-02-01                 34          277  \n",
       "998 2024-12-01                 17          207  \n",
       "999 2024-12-01                 17          207  \n",
       "\n",
       "[1000 rows x 12 columns]"
      ]
     },
     "execution_count": 18,
     "metadata": {},
     "output_type": "execute_result"
    }
   ],
   "source": [
    "#Checking if the merge worked\n",
    "df_merged"
   ]
  },
  {
   "cell_type": "markdown",
   "id": "0d5ec957-5119-4191-9f73-d0222e03ff1e",
   "metadata": {},
   "source": [
    "## Creating new columns and preparing businnes cases"
   ]
  },
  {
   "cell_type": "code",
   "execution_count": 19,
   "id": "9825d18c-b4dc-486b-b2d6-1fe7af93fd45",
   "metadata": {},
   "outputs": [],
   "source": [
    "#Creating profit column\n",
    "df_merged['profit'] = df_merged['sales_revenue'] - df_merged['cost_man']"
   ]
  },
  {
   "cell_type": "code",
   "execution_count": 21,
   "id": "71a32a75-2383-4b78-9fc6-c9d49d1a887c",
   "metadata": {},
   "outputs": [
    {
     "data": {
      "text/html": [
       "<div>\n",
       "<style scoped>\n",
       "    .dataframe tbody tr th:only-of-type {\n",
       "        vertical-align: middle;\n",
       "    }\n",
       "\n",
       "    .dataframe tbody tr th {\n",
       "        vertical-align: top;\n",
       "    }\n",
       "\n",
       "    .dataframe thead th {\n",
       "        text-align: right;\n",
       "    }\n",
       "</style>\n",
       "<table border=\"1\" class=\"dataframe\">\n",
       "  <thead>\n",
       "    <tr style=\"text-align: right;\">\n",
       "      <th></th>\n",
       "      <th>region</th>\n",
       "      <th>product</th>\n",
       "      <th>machine</th>\n",
       "      <th>month_year</th>\n",
       "      <th>area_hectares</th>\n",
       "      <th>production_tons</th>\n",
       "      <th>sales_revenue</th>\n",
       "      <th>cost_man</th>\n",
       "      <th>fuel_consumption_liters</th>\n",
       "      <th>month</th>\n",
       "      <th>avg_temperature_c</th>\n",
       "      <th>rainfall_mm</th>\n",
       "      <th>profit</th>\n",
       "    </tr>\n",
       "  </thead>\n",
       "  <tbody>\n",
       "    <tr>\n",
       "      <th>0</th>\n",
       "      <td>Nordeste</td>\n",
       "      <td>Cana-de-açúcar</td>\n",
       "      <td>Plantadeira Y</td>\n",
       "      <td>2024-10-01</td>\n",
       "      <td>480</td>\n",
       "      <td>1310</td>\n",
       "      <td>164648</td>\n",
       "      <td>175205</td>\n",
       "      <td>4999</td>\n",
       "      <td>2024-10-01</td>\n",
       "      <td>18</td>\n",
       "      <td>78</td>\n",
       "      <td>-10557</td>\n",
       "    </tr>\n",
       "    <tr>\n",
       "      <th>1</th>\n",
       "      <td>Norte</td>\n",
       "      <td>Cana-de-açúcar</td>\n",
       "      <td>Colheitadeira X</td>\n",
       "      <td>2024-12-01</td>\n",
       "      <td>437</td>\n",
       "      <td>21</td>\n",
       "      <td>434724</td>\n",
       "      <td>232107</td>\n",
       "      <td>4410</td>\n",
       "      <td>2024-12-01</td>\n",
       "      <td>17</td>\n",
       "      <td>207</td>\n",
       "      <td>202617</td>\n",
       "    </tr>\n",
       "    <tr>\n",
       "      <th>2</th>\n",
       "      <td>Centro-Oeste</td>\n",
       "      <td>Cana-de-açúcar</td>\n",
       "      <td>Plantadeira Y</td>\n",
       "      <td>2024-10-01</td>\n",
       "      <td>227</td>\n",
       "      <td>75</td>\n",
       "      <td>477927</td>\n",
       "      <td>100761</td>\n",
       "      <td>3119</td>\n",
       "      <td>2024-10-01</td>\n",
       "      <td>18</td>\n",
       "      <td>78</td>\n",
       "      <td>377166</td>\n",
       "    </tr>\n",
       "    <tr>\n",
       "      <th>3</th>\n",
       "      <td>Norte</td>\n",
       "      <td>Cana-de-açúcar</td>\n",
       "      <td>Colheitadeira X</td>\n",
       "      <td>2024-01-01</td>\n",
       "      <td>13</td>\n",
       "      <td>1297</td>\n",
       "      <td>35464</td>\n",
       "      <td>33926</td>\n",
       "      <td>3781</td>\n",
       "      <td>2024-01-01</td>\n",
       "      <td>21</td>\n",
       "      <td>169</td>\n",
       "      <td>1538</td>\n",
       "    </tr>\n",
       "    <tr>\n",
       "      <th>4</th>\n",
       "      <td>Norte</td>\n",
       "      <td>Trigo</td>\n",
       "      <td>Trator B</td>\n",
       "      <td>2024-02-01</td>\n",
       "      <td>99</td>\n",
       "      <td>1353</td>\n",
       "      <td>463497</td>\n",
       "      <td>109700</td>\n",
       "      <td>1543</td>\n",
       "      <td>2024-02-01</td>\n",
       "      <td>34</td>\n",
       "      <td>277</td>\n",
       "      <td>353797</td>\n",
       "    </tr>\n",
       "    <tr>\n",
       "      <th>...</th>\n",
       "      <td>...</td>\n",
       "      <td>...</td>\n",
       "      <td>...</td>\n",
       "      <td>...</td>\n",
       "      <td>...</td>\n",
       "      <td>...</td>\n",
       "      <td>...</td>\n",
       "      <td>...</td>\n",
       "      <td>...</td>\n",
       "      <td>...</td>\n",
       "      <td>...</td>\n",
       "      <td>...</td>\n",
       "      <td>...</td>\n",
       "    </tr>\n",
       "    <tr>\n",
       "      <th>995</th>\n",
       "      <td>Sudeste</td>\n",
       "      <td>Soja</td>\n",
       "      <td>Trator B</td>\n",
       "      <td>2024-09-01</td>\n",
       "      <td>326</td>\n",
       "      <td>254</td>\n",
       "      <td>306213</td>\n",
       "      <td>222394</td>\n",
       "      <td>2847</td>\n",
       "      <td>2024-09-01</td>\n",
       "      <td>25</td>\n",
       "      <td>68</td>\n",
       "      <td>83819</td>\n",
       "    </tr>\n",
       "    <tr>\n",
       "      <th>996</th>\n",
       "      <td>Sul</td>\n",
       "      <td>Trigo</td>\n",
       "      <td>Colheitadeira X</td>\n",
       "      <td>2024-02-01</td>\n",
       "      <td>422</td>\n",
       "      <td>882</td>\n",
       "      <td>148442</td>\n",
       "      <td>207123</td>\n",
       "      <td>1109</td>\n",
       "      <td>2024-02-01</td>\n",
       "      <td>34</td>\n",
       "      <td>277</td>\n",
       "      <td>-58681</td>\n",
       "    </tr>\n",
       "    <tr>\n",
       "      <th>997</th>\n",
       "      <td>Sul</td>\n",
       "      <td>Soja</td>\n",
       "      <td>Trator A</td>\n",
       "      <td>2024-02-01</td>\n",
       "      <td>304</td>\n",
       "      <td>952</td>\n",
       "      <td>129873</td>\n",
       "      <td>162699</td>\n",
       "      <td>1650</td>\n",
       "      <td>2024-02-01</td>\n",
       "      <td>34</td>\n",
       "      <td>277</td>\n",
       "      <td>-32826</td>\n",
       "    </tr>\n",
       "    <tr>\n",
       "      <th>998</th>\n",
       "      <td>Nordeste</td>\n",
       "      <td>Trigo</td>\n",
       "      <td>Trator A</td>\n",
       "      <td>2024-12-01</td>\n",
       "      <td>137</td>\n",
       "      <td>979</td>\n",
       "      <td>388987</td>\n",
       "      <td>282342</td>\n",
       "      <td>903</td>\n",
       "      <td>2024-12-01</td>\n",
       "      <td>17</td>\n",
       "      <td>207</td>\n",
       "      <td>106645</td>\n",
       "    </tr>\n",
       "    <tr>\n",
       "      <th>999</th>\n",
       "      <td>Centro-Oeste</td>\n",
       "      <td>Algodão</td>\n",
       "      <td>Plantadeira Y</td>\n",
       "      <td>2024-12-01</td>\n",
       "      <td>353</td>\n",
       "      <td>1330</td>\n",
       "      <td>81947</td>\n",
       "      <td>111471</td>\n",
       "      <td>4180</td>\n",
       "      <td>2024-12-01</td>\n",
       "      <td>17</td>\n",
       "      <td>207</td>\n",
       "      <td>-29524</td>\n",
       "    </tr>\n",
       "  </tbody>\n",
       "</table>\n",
       "<p>1000 rows × 13 columns</p>\n",
       "</div>"
      ],
      "text/plain": [
       "           region         product          machine month_year  area_hectares  \\\n",
       "0        Nordeste  Cana-de-açúcar    Plantadeira Y 2024-10-01            480   \n",
       "1           Norte  Cana-de-açúcar  Colheitadeira X 2024-12-01            437   \n",
       "2    Centro-Oeste  Cana-de-açúcar    Plantadeira Y 2024-10-01            227   \n",
       "3           Norte  Cana-de-açúcar  Colheitadeira X 2024-01-01             13   \n",
       "4           Norte           Trigo         Trator B 2024-02-01             99   \n",
       "..            ...             ...              ...        ...            ...   \n",
       "995       Sudeste            Soja         Trator B 2024-09-01            326   \n",
       "996           Sul           Trigo  Colheitadeira X 2024-02-01            422   \n",
       "997           Sul            Soja         Trator A 2024-02-01            304   \n",
       "998      Nordeste           Trigo         Trator A 2024-12-01            137   \n",
       "999  Centro-Oeste         Algodão    Plantadeira Y 2024-12-01            353   \n",
       "\n",
       "     production_tons  sales_revenue  cost_man  fuel_consumption_liters  \\\n",
       "0               1310         164648    175205                     4999   \n",
       "1                 21         434724    232107                     4410   \n",
       "2                 75         477927    100761                     3119   \n",
       "3               1297          35464     33926                     3781   \n",
       "4               1353         463497    109700                     1543   \n",
       "..               ...            ...       ...                      ...   \n",
       "995              254         306213    222394                     2847   \n",
       "996              882         148442    207123                     1109   \n",
       "997              952         129873    162699                     1650   \n",
       "998              979         388987    282342                      903   \n",
       "999             1330          81947    111471                     4180   \n",
       "\n",
       "         month  avg_temperature_c  rainfall_mm  profit  \n",
       "0   2024-10-01                 18           78  -10557  \n",
       "1   2024-12-01                 17          207  202617  \n",
       "2   2024-10-01                 18           78  377166  \n",
       "3   2024-01-01                 21          169    1538  \n",
       "4   2024-02-01                 34          277  353797  \n",
       "..         ...                ...          ...     ...  \n",
       "995 2024-09-01                 25           68   83819  \n",
       "996 2024-02-01                 34          277  -58681  \n",
       "997 2024-02-01                 34          277  -32826  \n",
       "998 2024-12-01                 17          207  106645  \n",
       "999 2024-12-01                 17          207  -29524  \n",
       "\n",
       "[1000 rows x 13 columns]"
      ]
     },
     "execution_count": 21,
     "metadata": {},
     "output_type": "execute_result"
    }
   ],
   "source": [
    "#Merged dataframe with profit column added\n",
    "df_merged"
   ]
  },
  {
   "cell_type": "code",
   "execution_count": 20,
   "id": "fb176e1a-305f-4f46-b9f5-0cdfa1f333ff",
   "metadata": {},
   "outputs": [
    {
     "data": {
      "text/plain": [
       "month_year\n",
       "2024-06-01    5828966\n",
       "2024-02-01    6040698\n",
       "2024-08-01    7189546\n",
       "2024-07-01    7632655\n",
       "2024-04-01    7928924\n",
       "Name: profit, dtype: int64"
      ]
     },
     "execution_count": 20,
     "metadata": {},
     "output_type": "execute_result"
    }
   ],
   "source": [
    "#Getting the top 5 months with least amount of profit\n",
    "df_merged.groupby('month_year')['profit'].sum().sort_values(ascending=True).head(5)"
   ]
  },
  {
   "cell_type": "code",
   "execution_count": 22,
   "id": "a8a3e104-933e-4f68-994e-9f9a86788d10",
   "metadata": {},
   "outputs": [],
   "source": [
    "#Getting the less rentable months\n",
    "less_rentable_months = ['2024-06-01', '2024-02-01', '2024-08-01', '2024-07-01', '2024-04-01']\n",
    "df_less_rentable = df_merged[df_merged['month_year'].isin(pd.to_datetime(less_rentable_months))]"
   ]
  },
  {
   "cell_type": "code",
   "execution_count": 23,
   "id": "99bd00be-c622-4b71-9c3d-1ea95f08c1b0",
   "metadata": {},
   "outputs": [
    {
     "data": {
      "text/plain": [
       "month_year\n",
       "2024-02-01    277.0\n",
       "2024-04-01    296.0\n",
       "2024-06-01     41.0\n",
       "2024-07-01    272.0\n",
       "2024-08-01    255.0\n",
       "Name: rainfall_mm, dtype: float64"
      ]
     },
     "execution_count": 23,
     "metadata": {},
     "output_type": "execute_result"
    }
   ],
   "source": [
    "#By calculating the raninfall mean, we can assume that june was the worst month since the average rainfall was really low, resulting in a less profitable month\n",
    "df_less_rentable.groupby('month_year')['rainfall_mm'].mean()"
   ]
  },
  {
   "cell_type": "code",
   "execution_count": 24,
   "id": "5cdbf929-5d4b-4868-860a-e3b32bb8f2e8",
   "metadata": {},
   "outputs": [
    {
     "data": {
      "text/plain": [
       "product\n",
       "Milho             91\n",
       "Algodão           82\n",
       "Cana-de-açúcar    77\n",
       "Soja              76\n",
       "Trigo             75\n",
       "Name: count, dtype: int64"
      ]
     },
     "execution_count": 24,
     "metadata": {},
     "output_type": "execute_result"
    }
   ],
   "source": [
    "#Checks for the products count; not the reason why the other months are less profitable\n",
    "df_less_rentable['product'].value_counts()"
   ]
  },
  {
   "cell_type": "code",
   "execution_count": 26,
   "id": "8a116349-50a7-4f89-be75-432c82d1e906",
   "metadata": {},
   "outputs": [
    {
     "data": {
      "text/plain": [
       "month_year\n",
       "2024-02-01    169755.539474\n",
       "2024-07-01    168653.148649\n",
       "2024-06-01    165282.638554\n",
       "2024-04-01    153250.628205\n",
       "2024-08-01    147078.200000\n",
       "Name: cost_man, dtype: float64"
      ]
     },
     "execution_count": 26,
     "metadata": {},
     "output_type": "execute_result"
    }
   ],
   "source": [
    "#checks for the average cost; not the reason for less profit either\n",
    "df_less_rentable.groupby('month_year')['cost_man'].mean().sort_values(ascending=False)"
   ]
  },
  {
   "cell_type": "code",
   "execution_count": 27,
   "id": "1639789a-a5d3-4c76-a856-8e1fa3df4844",
   "metadata": {},
   "outputs": [
    {
     "data": {
      "text/plain": [
       "month_year\n",
       "2024-08-01    1149.655556\n",
       "2024-04-01    1064.012821\n",
       "2024-06-01    1025.855422\n",
       "2024-07-01     987.824324\n",
       "2024-02-01     954.407895\n",
       "Name: production_tons, dtype: float64"
      ]
     },
     "execution_count": 27,
     "metadata": {},
     "output_type": "execute_result"
    }
   ],
   "source": [
    "#checks for the average production; not the reason for less profit either\n",
    "df_less_rentable.groupby('month_year')['production_tons'].mean().sort_values(ascending=False)"
   ]
  },
  {
   "cell_type": "code",
   "execution_count": 33,
   "id": "2f455c7e-697d-4c91-b11f-11aa86a8164e",
   "metadata": {},
   "outputs": [
    {
     "data": {
      "text/plain": [
       "month_year\n",
       "2024-02-01    475.151215\n",
       "2024-08-01    542.868098\n",
       "2024-07-01    579.445053\n",
       "2024-06-01    653.554662\n",
       "2024-04-01    980.834622\n",
       "Name: tons_price, dtype: float64"
      ]
     },
     "execution_count": 33,
     "metadata": {},
     "output_type": "execute_result"
    }
   ],
   "source": [
    "#checks for the tons price; not the reason for less profit either\n",
    "df_less_rentable.loc[: ,'tons_price'] = df_less_rentable['sales_revenue'] / df_less_rentable['production_tons']\n",
    "df_less_rentable.groupby('month_year')['tons_price'].mean().sort_values()"
   ]
  },
  {
   "cell_type": "code",
   "execution_count": 34,
   "id": "5fa93447-433e-438b-91c9-b7423dcd9b5c",
   "metadata": {},
   "outputs": [
    {
     "data": {
      "text/html": [
       "<div>\n",
       "<style scoped>\n",
       "    .dataframe tbody tr th:only-of-type {\n",
       "        vertical-align: middle;\n",
       "    }\n",
       "\n",
       "    .dataframe tbody tr th {\n",
       "        vertical-align: top;\n",
       "    }\n",
       "\n",
       "    .dataframe thead th {\n",
       "        text-align: right;\n",
       "    }\n",
       "</style>\n",
       "<table border=\"1\" class=\"dataframe\">\n",
       "  <thead>\n",
       "    <tr style=\"text-align: right;\">\n",
       "      <th></th>\n",
       "      <th>sales_revenue</th>\n",
       "      <th>production_tons</th>\n",
       "    </tr>\n",
       "    <tr>\n",
       "      <th>month_year</th>\n",
       "      <th></th>\n",
       "      <th></th>\n",
       "    </tr>\n",
       "  </thead>\n",
       "  <tbody>\n",
       "    <tr>\n",
       "      <th>2024-02-01</th>\n",
       "      <td>249238.407895</td>\n",
       "      <td>954.407895</td>\n",
       "    </tr>\n",
       "    <tr>\n",
       "      <th>2024-04-01</th>\n",
       "      <td>254903.500000</td>\n",
       "      <td>1064.012821</td>\n",
       "    </tr>\n",
       "    <tr>\n",
       "      <th>2024-06-01</th>\n",
       "      <td>235511.144578</td>\n",
       "      <td>1025.855422</td>\n",
       "    </tr>\n",
       "    <tr>\n",
       "      <th>2024-07-01</th>\n",
       "      <td>271797.135135</td>\n",
       "      <td>987.824324</td>\n",
       "    </tr>\n",
       "    <tr>\n",
       "      <th>2024-08-01</th>\n",
       "      <td>226962.044444</td>\n",
       "      <td>1149.655556</td>\n",
       "    </tr>\n",
       "  </tbody>\n",
       "</table>\n",
       "</div>"
      ],
      "text/plain": [
       "            sales_revenue  production_tons\n",
       "month_year                                \n",
       "2024-02-01  249238.407895       954.407895\n",
       "2024-04-01  254903.500000      1064.012821\n",
       "2024-06-01  235511.144578      1025.855422\n",
       "2024-07-01  271797.135135       987.824324\n",
       "2024-08-01  226962.044444      1149.655556"
      ]
     },
     "execution_count": 34,
     "metadata": {},
     "output_type": "execute_result"
    }
   ],
   "source": [
    "#takes the average for sales revenue and production. Not the reason either.\n",
    "df_less_rentable.groupby('month_year')[['sales_revenue', 'production_tons']].mean()"
   ]
  },
  {
   "cell_type": "markdown",
   "id": "85538952-7747-4068-afdf-a8e169fcb610",
   "metadata": {},
   "source": [
    "## Final conclusion:\n",
    "\n",
    "# Based on the analisys, we can can conclude that June (2024-06) was the worst performing month in terms of profit, mainly because of significantly low rainfall. It was the only month to present a huge discrepancy on weather conditions, impacting the overall productivity.\n",
    "\n",
    "# The other months however, there was no factor that stood out, unlike June. A combination of factors contributed to this loss, such as moderate operational costs, slightly lower production. We can can conclude that the multiple average-level factors accumulated, leading to a less obvious cause.\n",
    "\n",
    "# This project highlights the importance of constantly monitoring indicators simultaneously, rather than pointing to a single cause. "
   ]
  }
 ],
 "metadata": {
  "kernelspec": {
   "display_name": "Python 3 (ipykernel)",
   "language": "python",
   "name": "python3"
  },
  "language_info": {
   "codemirror_mode": {
    "name": "ipython",
    "version": 3
   },
   "file_extension": ".py",
   "mimetype": "text/x-python",
   "name": "python",
   "nbconvert_exporter": "python",
   "pygments_lexer": "ipython3",
   "version": "3.12.7"
  }
 },
 "nbformat": 4,
 "nbformat_minor": 5
}
